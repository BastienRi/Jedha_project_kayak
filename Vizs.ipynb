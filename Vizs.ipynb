{
 "cells": [
  {
   "cell_type": "code",
   "execution_count": 2,
   "metadata": {},
   "outputs": [],
   "source": [
    "import pandas as pd\n",
    "\n",
    "import plotly.io as pio\n",
    "pio.renderers.default = \"iframe_connected\"\n",
    "import plotly.express as px"
   ]
  },
  {
   "cell_type": "code",
   "execution_count": 3,
   "metadata": {},
   "outputs": [
    {
     "data": {
      "text/html": [
       "<div>\n",
       "<style scoped>\n",
       "    .dataframe tbody tr th:only-of-type {\n",
       "        vertical-align: middle;\n",
       "    }\n",
       "\n",
       "    .dataframe tbody tr th {\n",
       "        vertical-align: top;\n",
       "    }\n",
       "\n",
       "    .dataframe thead th {\n",
       "        text-align: right;\n",
       "    }\n",
       "</style>\n",
       "<table border=\"1\" class=\"dataframe\">\n",
       "  <thead>\n",
       "    <tr style=\"text-align: right;\">\n",
       "      <th></th>\n",
       "      <th>cid</th>\n",
       "      <th>id</th>\n",
       "      <th>name</th>\n",
       "      <th>lat</th>\n",
       "      <th>lon</th>\n",
       "      <th>avg_temp</th>\n",
       "      <th>avg_prec</th>\n",
       "    </tr>\n",
       "  </thead>\n",
       "  <tbody>\n",
       "    <tr>\n",
       "      <th>0</th>\n",
       "      <td>27</td>\n",
       "      <td>27</td>\n",
       "      <td>Collioure</td>\n",
       "      <td>42.525050</td>\n",
       "      <td>3.083155</td>\n",
       "      <td>11.264286</td>\n",
       "      <td>0.457143</td>\n",
       "    </tr>\n",
       "    <tr>\n",
       "      <th>1</th>\n",
       "      <td>33</td>\n",
       "      <td>33</td>\n",
       "      <td>Bayonne</td>\n",
       "      <td>43.493338</td>\n",
       "      <td>-1.475099</td>\n",
       "      <td>10.165714</td>\n",
       "      <td>0.660000</td>\n",
       "    </tr>\n",
       "    <tr>\n",
       "      <th>2</th>\n",
       "      <td>34</td>\n",
       "      <td>34</td>\n",
       "      <td>La Rochelle</td>\n",
       "      <td>46.159113</td>\n",
       "      <td>-1.152043</td>\n",
       "      <td>9.940000</td>\n",
       "      <td>0.592857</td>\n",
       "    </tr>\n",
       "    <tr>\n",
       "      <th>3</th>\n",
       "      <td>32</td>\n",
       "      <td>32</td>\n",
       "      <td>Biarritz</td>\n",
       "      <td>43.471144</td>\n",
       "      <td>-1.552727</td>\n",
       "      <td>9.934286</td>\n",
       "      <td>0.635714</td>\n",
       "    </tr>\n",
       "    <tr>\n",
       "      <th>4</th>\n",
       "      <td>1</td>\n",
       "      <td>1</td>\n",
       "      <td>St Malo</td>\n",
       "      <td>48.649518</td>\n",
       "      <td>-2.026041</td>\n",
       "      <td>9.874286</td>\n",
       "      <td>0.717143</td>\n",
       "    </tr>\n",
       "  </tbody>\n",
       "</table>\n",
       "</div>"
      ],
      "text/plain": [
       "   cid  id         name        lat       lon   avg_temp  avg_prec\n",
       "0   27  27    Collioure  42.525050  3.083155  11.264286  0.457143\n",
       "1   33  33      Bayonne  43.493338 -1.475099  10.165714  0.660000\n",
       "2   34  34  La Rochelle  46.159113 -1.152043   9.940000  0.592857\n",
       "3   32  32     Biarritz  43.471144 -1.552727   9.934286  0.635714\n",
       "4    1   1      St Malo  48.649518 -2.026041   9.874286  0.717143"
      ]
     },
     "execution_count": 3,
     "metadata": {},
     "output_type": "execute_result"
    }
   ],
   "source": [
    "# get csv file 'src/weather_city.csv'\n",
    "path = 'src/weather_city.csv'\n",
    "df_db =  pd.read_csv(path, index_col =0)\n",
    "df_db.head()"
   ]
  },
  {
   "cell_type": "code",
   "execution_count": 4,
   "metadata": {},
   "outputs": [
    {
     "data": {
      "text/html": [
       "<iframe\n",
       "    scrolling=\"no\"\n",
       "    width=\"100%\"\n",
       "    height=\"320\"\n",
       "    src=\"iframe_figures/figure_4.html\"\n",
       "    frameborder=\"0\"\n",
       "    allowfullscreen\n",
       "></iframe>\n"
      ]
     },
     "metadata": {},
     "output_type": "display_data"
    }
   ],
   "source": [
    "fig = px.scatter_mapbox(df_db, lat=\"lat\", lon=\"lon\", hover_name='name', color=\"avg_temp\", size =\"avg_prec\", \n",
    "                        hover_data=['avg_temp','avg_prec'], color_discrete_sequence=[\"bluered\"], zoom=5, height=300)\n",
    "\n",
    "fig.update_layout(mapbox_style=\"open-street-map\")\n",
    "\n",
    "fig.update_layout(margin={\"r\":0,\"t\":0,\"l\":0,\"b\":0})\n",
    "\n",
    "fig.show()"
   ]
  },
  {
   "cell_type": "code",
   "execution_count": 5,
   "metadata": {},
   "outputs": [
    {
     "data": {
      "text/html": [
       "<div>\n",
       "<style scoped>\n",
       "    .dataframe tbody tr th:only-of-type {\n",
       "        vertical-align: middle;\n",
       "    }\n",
       "\n",
       "    .dataframe tbody tr th {\n",
       "        vertical-align: top;\n",
       "    }\n",
       "\n",
       "    .dataframe thead th {\n",
       "        text-align: right;\n",
       "    }\n",
       "</style>\n",
       "<table border=\"1\" class=\"dataframe\">\n",
       "  <thead>\n",
       "    <tr style=\"text-align: right;\">\n",
       "      <th></th>\n",
       "      <th>city_id</th>\n",
       "      <th>city_name</th>\n",
       "      <th>hotel_id</th>\n",
       "      <th>hotel_name</th>\n",
       "      <th>hotel_url</th>\n",
       "      <th>hotel_score</th>\n",
       "      <th>hotel_text</th>\n",
       "      <th>lattitude</th>\n",
       "      <th>longitude</th>\n",
       "    </tr>\n",
       "  </thead>\n",
       "  <tbody>\n",
       "    <tr>\n",
       "      <th>0</th>\n",
       "      <td>27</td>\n",
       "      <td>Collioure</td>\n",
       "      <td>8</td>\n",
       "      <td>Le Relais Des Trois Mas</td>\n",
       "      <td>https://www.booking.com//hotel/fr/le-relais-de...</td>\n",
       "      <td>9.0</td>\n",
       "      <td>\\nDoté d'une terrasse avec piscine donnant sur...</td>\n",
       "      <td>42.524173</td>\n",
       "      <td>3.089311</td>\n",
       "    </tr>\n",
       "    <tr>\n",
       "      <th>1</th>\n",
       "      <td>27</td>\n",
       "      <td>Collioure</td>\n",
       "      <td>5</td>\n",
       "      <td>Le Madeloc Hôtel &amp; Spa</td>\n",
       "      <td>https://www.booking.com//hotel/fr/madeloc.fr.h...</td>\n",
       "      <td>8.8</td>\n",
       "      <td>\\nSitué à 500 mètres du centre-ville de Collio...</td>\n",
       "      <td>42.528765</td>\n",
       "      <td>3.078654</td>\n",
       "    </tr>\n",
       "    <tr>\n",
       "      <th>2</th>\n",
       "      <td>27</td>\n",
       "      <td>Collioure</td>\n",
       "      <td>9</td>\n",
       "      <td>Hôtel La Casa Pairal</td>\n",
       "      <td>https://www.booking.com//hotel/fr/hotelcasapai...</td>\n",
       "      <td>8.7</td>\n",
       "      <td>\\nSitué à 250 mètres de la plage et du port de...</td>\n",
       "      <td>42.526167</td>\n",
       "      <td>3.082356</td>\n",
       "    </tr>\n",
       "    <tr>\n",
       "      <th>3</th>\n",
       "      <td>27</td>\n",
       "      <td>Collioure</td>\n",
       "      <td>2</td>\n",
       "      <td>Hôtel la Bona Casa</td>\n",
       "      <td>https://www.booking.com//hotel/fr/la-bona-casa...</td>\n",
       "      <td>8.4</td>\n",
       "      <td>\\nL'Hôtel la Bona Casa est situé dans le centr...</td>\n",
       "      <td>42.525472</td>\n",
       "      <td>3.082699</td>\n",
       "    </tr>\n",
       "    <tr>\n",
       "      <th>4</th>\n",
       "      <td>27</td>\n",
       "      <td>Collioure</td>\n",
       "      <td>0</td>\n",
       "      <td>Hôtel Princes de Catalogne</td>\n",
       "      <td>https://www.booking.com//hotel/fr/princes-de-c...</td>\n",
       "      <td>8.1</td>\n",
       "      <td>\\nSitué sur une place tranquille dans la ville...</td>\n",
       "      <td>42.525914</td>\n",
       "      <td>3.082682</td>\n",
       "    </tr>\n",
       "  </tbody>\n",
       "</table>\n",
       "</div>"
      ],
      "text/plain": [
       "   city_id  city_name  hotel_id                  hotel_name  \\\n",
       "0       27  Collioure         8     Le Relais Des Trois Mas   \n",
       "1       27  Collioure         5      Le Madeloc Hôtel & Spa   \n",
       "2       27  Collioure         9        Hôtel La Casa Pairal   \n",
       "3       27  Collioure         2          Hôtel la Bona Casa   \n",
       "4       27  Collioure         0  Hôtel Princes de Catalogne   \n",
       "\n",
       "                                           hotel_url  hotel_score  \\\n",
       "0  https://www.booking.com//hotel/fr/le-relais-de...          9.0   \n",
       "1  https://www.booking.com//hotel/fr/madeloc.fr.h...          8.8   \n",
       "2  https://www.booking.com//hotel/fr/hotelcasapai...          8.7   \n",
       "3  https://www.booking.com//hotel/fr/la-bona-casa...          8.4   \n",
       "4  https://www.booking.com//hotel/fr/princes-de-c...          8.1   \n",
       "\n",
       "                                          hotel_text  lattitude  longitude  \n",
       "0  \\nDoté d'une terrasse avec piscine donnant sur...  42.524173   3.089311  \n",
       "1  \\nSitué à 500 mètres du centre-ville de Collio...  42.528765   3.078654  \n",
       "2  \\nSitué à 250 mètres de la plage et du port de...  42.526167   3.082356  \n",
       "3  \\nL'Hôtel la Bona Casa est situé dans le centr...  42.525472   3.082699  \n",
       "4  \\nSitué sur une place tranquille dans la ville...  42.525914   3.082682  "
      ]
     },
     "execution_count": 5,
     "metadata": {},
     "output_type": "execute_result"
    }
   ],
   "source": [
    "path ='src/hotel_city.csv'\n",
    "df_f =  pd.read_csv(path, index_col =0)\n",
    "df_f.head()"
   ]
  },
  {
   "cell_type": "code",
   "execution_count": 6,
   "metadata": {},
   "outputs": [
    {
     "data": {
      "text/html": [
       "<iframe\n",
       "    scrolling=\"no\"\n",
       "    width=\"100%\"\n",
       "    height=\"320\"\n",
       "    src=\"iframe_figures/figure_6.html\"\n",
       "    frameborder=\"0\"\n",
       "    allowfullscreen\n",
       "></iframe>\n"
      ]
     },
     "metadata": {},
     "output_type": "display_data"
    }
   ],
   "source": [
    "fig = px.scatter_mapbox(df_f, lat=\"lattitude\", lon=\"longitude\", hover_name='hotel_name', color = 'hotel_score', size =\"hotel_score\", \n",
    "                        hover_data=['city_name','hotel_score'], color_continuous_scale= \"ylorrd\", zoom=5, height=300)\n",
    "\n",
    "fig.update_layout(mapbox_style=\"open-street-map\")\n",
    "\n",
    "fig.update_layout(margin={\"r\":0,\"t\":0,\"l\":0,\"b\":0})\n",
    "\n",
    "fig.show()"
   ]
  },
  {
   "cell_type": "code",
   "execution_count": 7,
   "metadata": {},
   "outputs": [],
   "source": [
    "# this map is not visible, I should modify some parameters to make it more readble"
   ]
  },
  {
   "cell_type": "code",
   "execution_count": 8,
   "metadata": {},
   "outputs": [
    {
     "data": {
      "text/html": [
       "<iframe\n",
       "    scrolling=\"no\"\n",
       "    width=\"100%\"\n",
       "    height=\"545px\"\n",
       "    src=\"iframe_figures/figure_8.html\"\n",
       "    frameborder=\"0\"\n",
       "    allowfullscreen\n",
       "></iframe>\n"
      ]
     },
     "metadata": {},
     "output_type": "display_data"
    }
   ],
   "source": [
    "fig = px.scatter(px.scatter_mapbox(df_db.head(), lat=\"lat\", lon=\"lon\", hover_name='name', color=\"avg_temp\", size =\"avg_prec\", \n",
    "                        hover_data=['avg_temp','avg_prec'], color_discrete_sequence=[\"bluered\"], zoom=5, height=300))\n",
    "\n",
    "fig2 = px.scatter_mapbox(df_f, lat=\"lattitude\", lon=\"longitude\", hover_name='hotel_name', color = 'hotel_score', size =\"hotel_score\", \n",
    "                        hover_data=['city_name','hotel_score'], color_continuous_scale= \"ylorrd\", zoom=5, height=300)\n",
    "\n",
    "        \n",
    "fig.add_trace(fig2.data[0])\n",
    "\n",
    "fig.update_layout(mapbox_style=\"open-street-map\")\n",
    "\n",
    "fig.update_layout(margin={\"r\":0,\"t\":0,\"l\":0,\"b\":0})\n",
    "\n",
    "fig.show()"
   ]
  },
  {
   "cell_type": "code",
   "execution_count": null,
   "metadata": {},
   "outputs": [],
   "source": []
  }
 ],
 "metadata": {
  "kernelspec": {
   "display_name": "Python 3",
   "language": "python",
   "name": "python3"
  },
  "language_info": {
   "codemirror_mode": {
    "name": "ipython",
    "version": 3
   },
   "file_extension": ".py",
   "mimetype": "text/x-python",
   "name": "python",
   "nbconvert_exporter": "python",
   "pygments_lexer": "ipython3",
   "version": "3.8.6"
  }
 },
 "nbformat": 4,
 "nbformat_minor": 4
}
